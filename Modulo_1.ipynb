{
  "nbformat": 4,
  "nbformat_minor": 0,
  "metadata": {
    "colab": {
      "provenance": []
    },
    "kernelspec": {
      "name": "python3",
      "display_name": "Python 3"
    },
    "language_info": {
      "name": "python"
    }
  },
  "cells": [
    {
      "cell_type": "code",
      "execution_count": null,
      "metadata": {
        "id": "wMNewZvpdf75"
      },
      "outputs": [],
      "source": []
    },
    {
      "cell_type": "markdown",
      "source": [],
      "metadata": {
        "id": "x-BmvKIbt_82"
      }
    },
    {
      "cell_type": "markdown",
      "source": [
        "Esse"
      ],
      "metadata": {
        "id": "6HYoZOP1djKx"
      }
    },
    {
      "cell_type": "markdown",
      "source": [
        "Esse arquivo esta vazio, apenas para teste=)\n",
        "\n",
        "Suba em uma pasta no seu computador, de preferencia um caminho de pastas igual o da aula e tente refazer os comandos usando os passos do material."
      ],
      "metadata": {
        "id": "iTAFlTpRqKQD"
      }
    }
  ]
}